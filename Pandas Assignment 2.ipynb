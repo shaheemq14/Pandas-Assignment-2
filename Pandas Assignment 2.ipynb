{
 "cells": [
  {
   "cell_type": "code",
   "execution_count": null,
   "id": "fbebfddd-bb92-4cbb-9a9c-856923418404",
   "metadata": {},
   "outputs": [],
   "source": [
    "Q1. List any five functions of the pandas library with execution."
   ]
  },
  {
   "cell_type": "code",
   "execution_count": 56,
   "id": "3052e704-9822-4b8b-8eaf-1e4daac15f4c",
   "metadata": {},
   "outputs": [
    {
     "data": {
      "text/html": [
       "<div>\n",
       "<style scoped>\n",
       "    .dataframe tbody tr th:only-of-type {\n",
       "        vertical-align: middle;\n",
       "    }\n",
       "\n",
       "    .dataframe tbody tr th {\n",
       "        vertical-align: top;\n",
       "    }\n",
       "\n",
       "    .dataframe thead th {\n",
       "        text-align: right;\n",
       "    }\n",
       "</style>\n",
       "<table border=\"1\" class=\"dataframe\">\n",
       "  <thead>\n",
       "    <tr style=\"text-align: right;\">\n",
       "      <th></th>\n",
       "      <th>Index</th>\n",
       "    </tr>\n",
       "  </thead>\n",
       "  <tbody>\n",
       "    <tr>\n",
       "      <th>count</th>\n",
       "      <td>100.000000</td>\n",
       "    </tr>\n",
       "    <tr>\n",
       "      <th>mean</th>\n",
       "      <td>50.500000</td>\n",
       "    </tr>\n",
       "    <tr>\n",
       "      <th>std</th>\n",
       "      <td>29.011492</td>\n",
       "    </tr>\n",
       "    <tr>\n",
       "      <th>min</th>\n",
       "      <td>1.000000</td>\n",
       "    </tr>\n",
       "    <tr>\n",
       "      <th>25%</th>\n",
       "      <td>25.750000</td>\n",
       "    </tr>\n",
       "    <tr>\n",
       "      <th>50%</th>\n",
       "      <td>50.500000</td>\n",
       "    </tr>\n",
       "    <tr>\n",
       "      <th>75%</th>\n",
       "      <td>75.250000</td>\n",
       "    </tr>\n",
       "    <tr>\n",
       "      <th>max</th>\n",
       "      <td>100.000000</td>\n",
       "    </tr>\n",
       "  </tbody>\n",
       "</table>\n",
       "</div>"
      ],
      "text/plain": [
       "            Index\n",
       "count  100.000000\n",
       "mean    50.500000\n",
       "std     29.011492\n",
       "min      1.000000\n",
       "25%     25.750000\n",
       "50%     50.500000\n",
       "75%     75.250000\n",
       "max    100.000000"
      ]
     },
     "execution_count": 56,
     "metadata": {},
     "output_type": "execute_result"
    }
   ],
   "source": [
    "import pandas as pd\n",
    "df=pd.read_csv(\"customers.csv\")\n",
    "df.describe()\n"
   ]
  },
  {
   "cell_type": "code",
   "execution_count": 42,
   "id": "f80c0076-a68e-4e65-86f0-b7609d077b8b",
   "metadata": {},
   "outputs": [
    {
     "data": {
      "text/html": [
       "<div>\n",
       "<style scoped>\n",
       "    .dataframe tbody tr th:only-of-type {\n",
       "        vertical-align: middle;\n",
       "    }\n",
       "\n",
       "    .dataframe tbody tr th {\n",
       "        vertical-align: top;\n",
       "    }\n",
       "\n",
       "    .dataframe thead th {\n",
       "        text-align: right;\n",
       "    }\n",
       "</style>\n",
       "<table border=\"1\" class=\"dataframe\">\n",
       "  <thead>\n",
       "    <tr style=\"text-align: right;\">\n",
       "      <th></th>\n",
       "      <th>Index</th>\n",
       "      <th>Last Name</th>\n",
       "      <th>City</th>\n",
       "    </tr>\n",
       "  </thead>\n",
       "  <tbody>\n",
       "    <tr>\n",
       "      <th>0</th>\n",
       "      <td>1</td>\n",
       "      <td>Baxter</td>\n",
       "      <td>East Leonard</td>\n",
       "    </tr>\n",
       "    <tr>\n",
       "      <th>1</th>\n",
       "      <td>2</td>\n",
       "      <td>Lozano</td>\n",
       "      <td>East Jimmychester</td>\n",
       "    </tr>\n",
       "    <tr>\n",
       "      <th>2</th>\n",
       "      <td>3</td>\n",
       "      <td>Berry</td>\n",
       "      <td>Isabelborough</td>\n",
       "    </tr>\n",
       "    <tr>\n",
       "      <th>3</th>\n",
       "      <td>4</td>\n",
       "      <td>Olsen</td>\n",
       "      <td>Bensonview</td>\n",
       "    </tr>\n",
       "  </tbody>\n",
       "</table>\n",
       "</div>"
      ],
      "text/plain": [
       "   Index Last Name               City\n",
       "0      1    Baxter       East Leonard\n",
       "1      2    Lozano  East Jimmychester\n",
       "2      3     Berry      Isabelborough\n",
       "3      4     Olsen         Bensonview"
      ]
     },
     "execution_count": 42,
     "metadata": {},
     "output_type": "execute_result"
    }
   ],
   "source": [
    "df.iloc[0:4, [0,3,5]]"
   ]
  },
  {
   "cell_type": "code",
   "execution_count": 44,
   "id": "c46dbd3d-57c0-4b8a-8668-52d0f4a5f89d",
   "metadata": {},
   "outputs": [
    {
     "data": {
      "text/html": [
       "<div>\n",
       "<style scoped>\n",
       "    .dataframe tbody tr th:only-of-type {\n",
       "        vertical-align: middle;\n",
       "    }\n",
       "\n",
       "    .dataframe tbody tr th {\n",
       "        vertical-align: top;\n",
       "    }\n",
       "\n",
       "    .dataframe thead th {\n",
       "        text-align: right;\n",
       "    }\n",
       "</style>\n",
       "<table border=\"1\" class=\"dataframe\">\n",
       "  <thead>\n",
       "    <tr style=\"text-align: right;\">\n",
       "      <th></th>\n",
       "      <th>Index</th>\n",
       "      <th>Last Name</th>\n",
       "      <th>City</th>\n",
       "    </tr>\n",
       "  </thead>\n",
       "  <tbody>\n",
       "    <tr>\n",
       "      <th>0</th>\n",
       "      <td>1</td>\n",
       "      <td>Baxter</td>\n",
       "      <td>East Leonard</td>\n",
       "    </tr>\n",
       "    <tr>\n",
       "      <th>1</th>\n",
       "      <td>2</td>\n",
       "      <td>Lozano</td>\n",
       "      <td>East Jimmychester</td>\n",
       "    </tr>\n",
       "    <tr>\n",
       "      <th>2</th>\n",
       "      <td>3</td>\n",
       "      <td>Berry</td>\n",
       "      <td>Isabelborough</td>\n",
       "    </tr>\n",
       "    <tr>\n",
       "      <th>3</th>\n",
       "      <td>4</td>\n",
       "      <td>Olsen</td>\n",
       "      <td>Bensonview</td>\n",
       "    </tr>\n",
       "    <tr>\n",
       "      <th>4</th>\n",
       "      <td>5</td>\n",
       "      <td>Bender</td>\n",
       "      <td>West Priscilla</td>\n",
       "    </tr>\n",
       "  </tbody>\n",
       "</table>\n",
       "</div>"
      ],
      "text/plain": [
       "   Index Last Name               City\n",
       "0      1    Baxter       East Leonard\n",
       "1      2    Lozano  East Jimmychester\n",
       "2      3     Berry      Isabelborough\n",
       "3      4     Olsen         Bensonview\n",
       "4      5    Bender     West Priscilla"
      ]
     },
     "execution_count": 44,
     "metadata": {},
     "output_type": "execute_result"
    }
   ],
   "source": [
    "df.loc[0:4, ['Index','Last Name','City']]"
   ]
  },
  {
   "cell_type": "code",
   "execution_count": 45,
   "id": "30630bd8-a6d5-4e82-952c-778e03f65f42",
   "metadata": {},
   "outputs": [
    {
     "data": {
      "text/plain": [
       "array(['2020-08-24', '2021-04-23', '2020-03-25', '2020-06-02',\n",
       "       '2021-04-17', '2020-02-25', '2021-08-24', '2021-04-12',\n",
       "       '2020-01-13', '2021-11-08', '2021-10-20', '2020-11-29',\n",
       "       '2021-12-02', '2021-02-08', '2022-01-26', '2022-04-12',\n",
       "       '2021-03-10', '2022-03-26', '2020-09-24', '2021-09-24',\n",
       "       '2022-01-12', '2020-09-15', '2020-08-19', '2020-09-08',\n",
       "       '2021-04-06', '2022-05-24', '2022-02-20', '2022-05-26',\n",
       "       '2020-07-30', '2020-04-26', '2021-09-15', '2022-01-13',\n",
       "       '2021-04-24', '2021-09-21', '2021-11-03', '2022-01-04',\n",
       "       '2021-08-10', '2021-02-24', '2021-10-22', '2021-11-01',\n",
       "       '2020-10-10', '2021-09-08', '2020-12-13', '2022-05-15',\n",
       "       '2021-12-06', '2020-07-01', '2020-04-23', '2022-03-11',\n",
       "       '2022-03-10', '2021-03-19', '2021-03-27', '2021-03-08',\n",
       "       '2020-10-15', '2020-05-25', '2021-01-25', '2021-03-17',\n",
       "       '2020-11-15', '2020-12-20', '2020-08-21', '2020-12-10',\n",
       "       '2022-03-24', '2021-01-02', '2020-01-20', '2020-08-18',\n",
       "       '2021-01-31', '2020-02-03', '2021-02-20', '2020-02-23',\n",
       "       '2020-08-22', '2020-02-09', '2022-01-15', '2020-07-11',\n",
       "       '2021-07-24', '2020-10-21', '2020-06-08', '2020-09-19',\n",
       "       '2021-11-13', '2021-09-12', '2020-12-28', '2021-11-15',\n",
       "       '2020-02-18', '2022-05-13', '2020-07-21', '2020-11-10',\n",
       "       '2021-04-15', '2021-01-09', '2020-03-26', '2021-07-06',\n",
       "       '2021-06-29', '2021-04-04', '2022-02-17', '2022-01-30',\n",
       "       '2021-07-10', '2021-09-18', '2021-08-11', '2020-03-11'],\n",
       "      dtype=object)"
      ]
     },
     "execution_count": 45,
     "metadata": {},
     "output_type": "execute_result"
    }
   ],
   "source": [
    "pd.unique(df['Subscription Date'])"
   ]
  },
  {
   "cell_type": "code",
   "execution_count": 47,
   "id": "c99b3f9d-b7af-4afb-9fb7-62035b75f974",
   "metadata": {},
   "outputs": [
    {
     "data": {
      "text/html": [
       "<div>\n",
       "<style scoped>\n",
       "    .dataframe tbody tr th:only-of-type {\n",
       "        vertical-align: middle;\n",
       "    }\n",
       "\n",
       "    .dataframe tbody tr th {\n",
       "        vertical-align: top;\n",
       "    }\n",
       "\n",
       "    .dataframe thead th {\n",
       "        text-align: right;\n",
       "    }\n",
       "</style>\n",
       "<table border=\"1\" class=\"dataframe\">\n",
       "  <thead>\n",
       "    <tr style=\"text-align: right;\">\n",
       "      <th></th>\n",
       "      <th>Subscription Date</th>\n",
       "    </tr>\n",
       "  </thead>\n",
       "  <tbody>\n",
       "    <tr>\n",
       "      <th>0</th>\n",
       "      <td>2020-08-24</td>\n",
       "    </tr>\n",
       "    <tr>\n",
       "      <th>1</th>\n",
       "      <td>2021-04-23</td>\n",
       "    </tr>\n",
       "    <tr>\n",
       "      <th>2</th>\n",
       "      <td>2020-03-25</td>\n",
       "    </tr>\n",
       "    <tr>\n",
       "      <th>3</th>\n",
       "      <td>2020-06-02</td>\n",
       "    </tr>\n",
       "    <tr>\n",
       "      <th>4</th>\n",
       "      <td>2021-04-17</td>\n",
       "    </tr>\n",
       "    <tr>\n",
       "      <th>...</th>\n",
       "      <td>...</td>\n",
       "    </tr>\n",
       "    <tr>\n",
       "      <th>95</th>\n",
       "      <td>2022-01-30</td>\n",
       "    </tr>\n",
       "    <tr>\n",
       "      <th>96</th>\n",
       "      <td>2021-07-10</td>\n",
       "    </tr>\n",
       "    <tr>\n",
       "      <th>97</th>\n",
       "      <td>2021-09-18</td>\n",
       "    </tr>\n",
       "    <tr>\n",
       "      <th>98</th>\n",
       "      <td>2021-08-11</td>\n",
       "    </tr>\n",
       "    <tr>\n",
       "      <th>99</th>\n",
       "      <td>2020-03-11</td>\n",
       "    </tr>\n",
       "  </tbody>\n",
       "</table>\n",
       "<p>100 rows × 1 columns</p>\n",
       "</div>"
      ],
      "text/plain": [
       "   Subscription Date\n",
       "0         2020-08-24\n",
       "1         2021-04-23\n",
       "2         2020-03-25\n",
       "3         2020-06-02\n",
       "4         2021-04-17\n",
       "..               ...\n",
       "95        2022-01-30\n",
       "96        2021-07-10\n",
       "97        2021-09-18\n",
       "98        2021-08-11\n",
       "99        2020-03-11\n",
       "\n",
       "[100 rows x 1 columns]"
      ]
     },
     "execution_count": 47,
     "metadata": {},
     "output_type": "execute_result"
    }
   ],
   "source": [
    "df[pd.Categorical(['Subscription Date'])]"
   ]
  },
  {
   "cell_type": "code",
   "execution_count": 48,
   "id": "87a50464-8b6e-449c-9cf6-7a7c70933fc6",
   "metadata": {},
   "outputs": [
    {
     "data": {
      "text/html": [
       "<div>\n",
       "<style scoped>\n",
       "    .dataframe tbody tr th:only-of-type {\n",
       "        vertical-align: middle;\n",
       "    }\n",
       "\n",
       "    .dataframe tbody tr th {\n",
       "        vertical-align: top;\n",
       "    }\n",
       "\n",
       "    .dataframe thead th {\n",
       "        text-align: right;\n",
       "    }\n",
       "</style>\n",
       "<table border=\"1\" class=\"dataframe\">\n",
       "  <thead>\n",
       "    <tr style=\"text-align: right;\">\n",
       "      <th></th>\n",
       "      <th>Index</th>\n",
       "      <th>Customer Id</th>\n",
       "      <th>First Name</th>\n",
       "      <th>Last Name</th>\n",
       "      <th>Company</th>\n",
       "      <th>City</th>\n",
       "      <th>Country</th>\n",
       "      <th>Phone 1</th>\n",
       "      <th>Phone 2</th>\n",
       "      <th>Email</th>\n",
       "      <th>Subscription Date</th>\n",
       "      <th>Website</th>\n",
       "    </tr>\n",
       "  </thead>\n",
       "  <tbody>\n",
       "    <tr>\n",
       "      <th>0</th>\n",
       "      <td>1</td>\n",
       "      <td>DD37Cf93aecA6Dc</td>\n",
       "      <td>Sheryl</td>\n",
       "      <td>Baxter</td>\n",
       "      <td>Rasmussen Group</td>\n",
       "      <td>East Leonard</td>\n",
       "      <td>Chile</td>\n",
       "      <td>229.077.5154</td>\n",
       "      <td>397.884.0519x718</td>\n",
       "      <td>zunigavanessa@smith.info</td>\n",
       "      <td>2020-08-24</td>\n",
       "      <td>http://www.stephenson.com/</td>\n",
       "    </tr>\n",
       "    <tr>\n",
       "      <th>1</th>\n",
       "      <td>2</td>\n",
       "      <td>1Ef7b82A4CAAD10</td>\n",
       "      <td>Preston</td>\n",
       "      <td>Lozano</td>\n",
       "      <td>Vega-Gentry</td>\n",
       "      <td>East Jimmychester</td>\n",
       "      <td>Djibouti</td>\n",
       "      <td>5153435776</td>\n",
       "      <td>686-620-1820x944</td>\n",
       "      <td>vmata@colon.com</td>\n",
       "      <td>2021-04-23</td>\n",
       "      <td>http://www.hobbs.com/</td>\n",
       "    </tr>\n",
       "    <tr>\n",
       "      <th>2</th>\n",
       "      <td>3</td>\n",
       "      <td>6F94879bDAfE5a6</td>\n",
       "      <td>Roy</td>\n",
       "      <td>Berry</td>\n",
       "      <td>Murillo-Perry</td>\n",
       "      <td>Isabelborough</td>\n",
       "      <td>Antigua and Barbuda</td>\n",
       "      <td>+1-539-402-0259</td>\n",
       "      <td>(496)978-3969x58947</td>\n",
       "      <td>beckycarr@hogan.com</td>\n",
       "      <td>2020-03-25</td>\n",
       "      <td>http://www.lawrence.com/</td>\n",
       "    </tr>\n",
       "    <tr>\n",
       "      <th>3</th>\n",
       "      <td>4</td>\n",
       "      <td>5Cef8BFA16c5e3c</td>\n",
       "      <td>Linda</td>\n",
       "      <td>Olsen</td>\n",
       "      <td>Dominguez, Mcmillan and Donovan</td>\n",
       "      <td>Bensonview</td>\n",
       "      <td>Dominican Republic</td>\n",
       "      <td>001-808-617-6467x12895</td>\n",
       "      <td>+1-813-324-8756</td>\n",
       "      <td>stanleyblackwell@benson.org</td>\n",
       "      <td>2020-06-02</td>\n",
       "      <td>http://www.good-lyons.com/</td>\n",
       "    </tr>\n",
       "    <tr>\n",
       "      <th>4</th>\n",
       "      <td>5</td>\n",
       "      <td>053d585Ab6b3159</td>\n",
       "      <td>Joanna</td>\n",
       "      <td>Bender</td>\n",
       "      <td>Martin, Lang and Andrade</td>\n",
       "      <td>West Priscilla</td>\n",
       "      <td>Slovakia (Slovak Republic)</td>\n",
       "      <td>001-234-203-0635x76146</td>\n",
       "      <td>001-199-446-3860x3486</td>\n",
       "      <td>colinalvarado@miles.net</td>\n",
       "      <td>2021-04-17</td>\n",
       "      <td>https://goodwin-ingram.com/</td>\n",
       "    </tr>\n",
       "  </tbody>\n",
       "</table>\n",
       "</div>"
      ],
      "text/plain": [
       "   Index      Customer Id First Name Last Name  \\\n",
       "0      1  DD37Cf93aecA6Dc     Sheryl    Baxter   \n",
       "1      2  1Ef7b82A4CAAD10    Preston    Lozano   \n",
       "2      3  6F94879bDAfE5a6        Roy     Berry   \n",
       "3      4  5Cef8BFA16c5e3c      Linda     Olsen   \n",
       "4      5  053d585Ab6b3159     Joanna    Bender   \n",
       "\n",
       "                           Company               City  \\\n",
       "0                  Rasmussen Group       East Leonard   \n",
       "1                      Vega-Gentry  East Jimmychester   \n",
       "2                    Murillo-Perry      Isabelborough   \n",
       "3  Dominguez, Mcmillan and Donovan         Bensonview   \n",
       "4         Martin, Lang and Andrade     West Priscilla   \n",
       "\n",
       "                      Country                 Phone 1                Phone 2  \\\n",
       "0                       Chile            229.077.5154       397.884.0519x718   \n",
       "1                    Djibouti              5153435776       686-620-1820x944   \n",
       "2         Antigua and Barbuda         +1-539-402-0259    (496)978-3969x58947   \n",
       "3          Dominican Republic  001-808-617-6467x12895        +1-813-324-8756   \n",
       "4  Slovakia (Slovak Republic)  001-234-203-0635x76146  001-199-446-3860x3486   \n",
       "\n",
       "                         Email Subscription Date                      Website  \n",
       "0     zunigavanessa@smith.info        2020-08-24   http://www.stephenson.com/  \n",
       "1              vmata@colon.com        2021-04-23        http://www.hobbs.com/  \n",
       "2          beckycarr@hogan.com        2020-03-25     http://www.lawrence.com/  \n",
       "3  stanleyblackwell@benson.org        2020-06-02   http://www.good-lyons.com/  \n",
       "4      colinalvarado@miles.net        2021-04-17  https://goodwin-ingram.com/  "
      ]
     },
     "execution_count": 48,
     "metadata": {},
     "output_type": "execute_result"
    }
   ],
   "source": [
    "df.head()"
   ]
  },
  {
   "cell_type": "code",
   "execution_count": 49,
   "id": "2c2be193-cabd-40d1-86d1-81ac1c5e4691",
   "metadata": {},
   "outputs": [
    {
     "data": {
      "text/html": [
       "<div>\n",
       "<style scoped>\n",
       "    .dataframe tbody tr th:only-of-type {\n",
       "        vertical-align: middle;\n",
       "    }\n",
       "\n",
       "    .dataframe tbody tr th {\n",
       "        vertical-align: top;\n",
       "    }\n",
       "\n",
       "    .dataframe thead th {\n",
       "        text-align: right;\n",
       "    }\n",
       "</style>\n",
       "<table border=\"1\" class=\"dataframe\">\n",
       "  <thead>\n",
       "    <tr style=\"text-align: right;\">\n",
       "      <th></th>\n",
       "      <th>Index</th>\n",
       "      <th>Customer Id</th>\n",
       "      <th>First Name</th>\n",
       "      <th>Last Name</th>\n",
       "      <th>Company</th>\n",
       "      <th>City</th>\n",
       "      <th>Country</th>\n",
       "      <th>Phone 1</th>\n",
       "      <th>Phone 2</th>\n",
       "      <th>Email</th>\n",
       "      <th>Subscription Date</th>\n",
       "      <th>Website</th>\n",
       "    </tr>\n",
       "  </thead>\n",
       "  <tbody>\n",
       "    <tr>\n",
       "      <th>95</th>\n",
       "      <td>96</td>\n",
       "      <td>cb8E23e48d22Eae</td>\n",
       "      <td>Karl</td>\n",
       "      <td>Greer</td>\n",
       "      <td>Carey LLC</td>\n",
       "      <td>East Richard</td>\n",
       "      <td>Guyana</td>\n",
       "      <td>(188)169-1674x58692</td>\n",
       "      <td>001-841-293-3519x614</td>\n",
       "      <td>hhart@jensen.com</td>\n",
       "      <td>2022-01-30</td>\n",
       "      <td>http://hayes-perez.com/</td>\n",
       "    </tr>\n",
       "    <tr>\n",
       "      <th>96</th>\n",
       "      <td>97</td>\n",
       "      <td>CeD220bdAaCfaDf</td>\n",
       "      <td>Lynn</td>\n",
       "      <td>Atkinson</td>\n",
       "      <td>Ware, Burns and Oneal</td>\n",
       "      <td>New Bradview</td>\n",
       "      <td>Sri Lanka</td>\n",
       "      <td>+1-846-706-2218</td>\n",
       "      <td>605.413.3198</td>\n",
       "      <td>vkemp@ferrell.com</td>\n",
       "      <td>2021-07-10</td>\n",
       "      <td>https://novak-allison.com/</td>\n",
       "    </tr>\n",
       "    <tr>\n",
       "      <th>97</th>\n",
       "      <td>98</td>\n",
       "      <td>28CDbC0dFe4b1Db</td>\n",
       "      <td>Fred</td>\n",
       "      <td>Guerra</td>\n",
       "      <td>Schmitt-Jones</td>\n",
       "      <td>Ortegaland</td>\n",
       "      <td>Solomon Islands</td>\n",
       "      <td>+1-753-067-8419x7170</td>\n",
       "      <td>+1-632-666-7507x92121</td>\n",
       "      <td>swagner@kane.org</td>\n",
       "      <td>2021-09-18</td>\n",
       "      <td>https://www.ross.com/</td>\n",
       "    </tr>\n",
       "    <tr>\n",
       "      <th>98</th>\n",
       "      <td>99</td>\n",
       "      <td>c23d1D9EE8DEB0A</td>\n",
       "      <td>Yvonne</td>\n",
       "      <td>Farmer</td>\n",
       "      <td>Fitzgerald-Harrell</td>\n",
       "      <td>Lake Elijahview</td>\n",
       "      <td>Aruba</td>\n",
       "      <td>(530)311-9786</td>\n",
       "      <td>001-869-452-0943x12424</td>\n",
       "      <td>mccarthystephen@horn-green.biz</td>\n",
       "      <td>2021-08-11</td>\n",
       "      <td>http://watkins.info/</td>\n",
       "    </tr>\n",
       "    <tr>\n",
       "      <th>99</th>\n",
       "      <td>100</td>\n",
       "      <td>2354a0E336A91A1</td>\n",
       "      <td>Clarence</td>\n",
       "      <td>Haynes</td>\n",
       "      <td>Le, Nash and Cross</td>\n",
       "      <td>Judymouth</td>\n",
       "      <td>Honduras</td>\n",
       "      <td>(753)813-6941</td>\n",
       "      <td>783.639.1472</td>\n",
       "      <td>colleen91@faulkner.biz</td>\n",
       "      <td>2020-03-11</td>\n",
       "      <td>http://www.hatfield-saunders.net/</td>\n",
       "    </tr>\n",
       "  </tbody>\n",
       "</table>\n",
       "</div>"
      ],
      "text/plain": [
       "    Index      Customer Id First Name Last Name                Company  \\\n",
       "95     96  cb8E23e48d22Eae       Karl     Greer              Carey LLC   \n",
       "96     97  CeD220bdAaCfaDf       Lynn  Atkinson  Ware, Burns and Oneal   \n",
       "97     98  28CDbC0dFe4b1Db       Fred    Guerra          Schmitt-Jones   \n",
       "98     99  c23d1D9EE8DEB0A     Yvonne    Farmer     Fitzgerald-Harrell   \n",
       "99    100  2354a0E336A91A1   Clarence    Haynes     Le, Nash and Cross   \n",
       "\n",
       "               City          Country               Phone 1  \\\n",
       "95     East Richard           Guyana   (188)169-1674x58692   \n",
       "96     New Bradview        Sri Lanka       +1-846-706-2218   \n",
       "97       Ortegaland  Solomon Islands  +1-753-067-8419x7170   \n",
       "98  Lake Elijahview            Aruba         (530)311-9786   \n",
       "99        Judymouth         Honduras         (753)813-6941   \n",
       "\n",
       "                   Phone 2                           Email Subscription Date  \\\n",
       "95    001-841-293-3519x614                hhart@jensen.com        2022-01-30   \n",
       "96            605.413.3198               vkemp@ferrell.com        2021-07-10   \n",
       "97   +1-632-666-7507x92121                swagner@kane.org        2021-09-18   \n",
       "98  001-869-452-0943x12424  mccarthystephen@horn-green.biz        2021-08-11   \n",
       "99            783.639.1472          colleen91@faulkner.biz        2020-03-11   \n",
       "\n",
       "                              Website  \n",
       "95            http://hayes-perez.com/  \n",
       "96         https://novak-allison.com/  \n",
       "97              https://www.ross.com/  \n",
       "98               http://watkins.info/  \n",
       "99  http://www.hatfield-saunders.net/  "
      ]
     },
     "execution_count": 49,
     "metadata": {},
     "output_type": "execute_result"
    }
   ],
   "source": [
    "df.tail()"
   ]
  },
  {
   "cell_type": "code",
   "execution_count": null,
   "id": "e11cf586-0b17-4f51-bf13-498e1d589b6a",
   "metadata": {},
   "outputs": [],
   "source": [
    "Q2. Given a Pandas DataFrame df with columns 'A', 'B', and 'C', write a Python function to re-index the\n",
    "DataFrame with a new index that starts from 1 and increments by 2 for each row."
   ]
  },
  {
   "cell_type": "code",
   "execution_count": 15,
   "id": "43490327-a1c9-4209-a25d-7db10def77be",
   "metadata": {},
   "outputs": [
    {
     "name": "stdout",
     "output_type": "stream",
     "text": [
      "      A     B     C\n",
      "1  33.0  33.0  33.0\n",
      "3  55.0  55.0  55.0\n",
      "5   NaN   NaN   NaN\n",
      "7   NaN   NaN   NaN\n"
     ]
    },
    {
     "data": {
      "text/html": [
       "<div>\n",
       "<style scoped>\n",
       "    .dataframe tbody tr th:only-of-type {\n",
       "        vertical-align: middle;\n",
       "    }\n",
       "\n",
       "    .dataframe tbody tr th {\n",
       "        vertical-align: top;\n",
       "    }\n",
       "\n",
       "    .dataframe thead th {\n",
       "        text-align: right;\n",
       "    }\n",
       "</style>\n",
       "<table border=\"1\" class=\"dataframe\">\n",
       "  <thead>\n",
       "    <tr style=\"text-align: right;\">\n",
       "      <th></th>\n",
       "      <th>A</th>\n",
       "      <th>B</th>\n",
       "      <th>C</th>\n",
       "    </tr>\n",
       "  </thead>\n",
       "  <tbody>\n",
       "    <tr>\n",
       "      <th>1</th>\n",
       "      <td>33.0</td>\n",
       "      <td>33.0</td>\n",
       "      <td>33.0</td>\n",
       "    </tr>\n",
       "    <tr>\n",
       "      <th>3</th>\n",
       "      <td>55.0</td>\n",
       "      <td>55.0</td>\n",
       "      <td>55.0</td>\n",
       "    </tr>\n",
       "    <tr>\n",
       "      <th>5</th>\n",
       "      <td>NaN</td>\n",
       "      <td>NaN</td>\n",
       "      <td>NaN</td>\n",
       "    </tr>\n",
       "    <tr>\n",
       "      <th>7</th>\n",
       "      <td>NaN</td>\n",
       "      <td>NaN</td>\n",
       "      <td>NaN</td>\n",
       "    </tr>\n",
       "  </tbody>\n",
       "</table>\n",
       "</div>"
      ],
      "text/plain": [
       "      A     B     C\n",
       "1  33.0  33.0  33.0\n",
       "3  55.0  55.0  55.0\n",
       "5   NaN   NaN   NaN\n",
       "7   NaN   NaN   NaN"
      ]
     },
     "execution_count": 15,
     "metadata": {},
     "output_type": "execute_result"
    }
   ],
   "source": [
    "\n",
    "import pandas as pd\n",
    "data={\"A\":[22,33,44,55],\"B\":[22,33,44,55],\"C\":[22,33,44,55]}\n",
    "df=pd.DataFrame(data)\n",
    "def func(df):\n",
    "    return range(1,len(df)*2+1,2)\n",
    "new_df = df.reindex(func(df))\n",
    "\n",
    "print(new_df)\n",
    "df.reindex(func(new_df))"
   ]
  },
  {
   "cell_type": "code",
   "execution_count": null,
   "id": "33fdfbfb-23e9-4291-85d8-3eee5deae9f1",
   "metadata": {},
   "outputs": [],
   "source": [
    "Q3. You have a Pandas DataFrame df with a column named 'Values'. Write a Python function that\n",
    "iterates over the DataFrame and calculates the sum of the first three values in the 'Values' column. The\n",
    "function should print the sum to the console."
   ]
  },
  {
   "cell_type": "code",
   "execution_count": 127,
   "id": "a8496057-d69d-47f8-9795-3c0b45b9c61c",
   "metadata": {},
   "outputs": [
    {
     "data": {
      "text/plain": [
       "60"
      ]
     },
     "execution_count": 127,
     "metadata": {},
     "output_type": "execute_result"
    }
   ],
   "source": [
    "data= {'Name': [\"Shaheem\",\"Ajay\",\"Soni\",\"Sumit\",\"Nihar\",\"Jay\"], 'Value':[10,20,30,40,50,60]}\n",
    "df=pd.DataFrame(data)\n",
    "fd=df['Value'][0:3]\n",
    "fd.sum()"
   ]
  },
  {
   "cell_type": "code",
   "execution_count": null,
   "id": "47026670-80dd-4145-a42d-264c9bdc1229",
   "metadata": {},
   "outputs": [],
   "source": [
    "Q4. Given a Pandas DataFrame df with a column 'Text', write a Python function to create a new column\n",
    "'Word_Count' that contains the number of words in each row of the 'Text' column."
   ]
  },
  {
   "cell_type": "code",
   "execution_count": 128,
   "id": "59251b95-a334-42af-8db4-4ac214439566",
   "metadata": {},
   "outputs": [
    {
     "data": {
      "text/html": [
       "<div>\n",
       "<style scoped>\n",
       "    .dataframe tbody tr th:only-of-type {\n",
       "        vertical-align: middle;\n",
       "    }\n",
       "\n",
       "    .dataframe tbody tr th {\n",
       "        vertical-align: top;\n",
       "    }\n",
       "\n",
       "    .dataframe thead th {\n",
       "        text-align: right;\n",
       "    }\n",
       "</style>\n",
       "<table border=\"1\" class=\"dataframe\">\n",
       "  <thead>\n",
       "    <tr style=\"text-align: right;\">\n",
       "      <th></th>\n",
       "      <th>Name</th>\n",
       "      <th>Value</th>\n",
       "      <th>Text</th>\n",
       "      <th>Word_Count</th>\n",
       "    </tr>\n",
       "  </thead>\n",
       "  <tbody>\n",
       "    <tr>\n",
       "      <th>0</th>\n",
       "      <td>Shaheem</td>\n",
       "      <td>10</td>\n",
       "      <td>ASD</td>\n",
       "      <td>3</td>\n",
       "    </tr>\n",
       "    <tr>\n",
       "      <th>1</th>\n",
       "      <td>Ajay</td>\n",
       "      <td>20</td>\n",
       "      <td>QWER</td>\n",
       "      <td>4</td>\n",
       "    </tr>\n",
       "    <tr>\n",
       "      <th>2</th>\n",
       "      <td>Soni</td>\n",
       "      <td>30</td>\n",
       "      <td>ZMXAK</td>\n",
       "      <td>5</td>\n",
       "    </tr>\n",
       "    <tr>\n",
       "      <th>3</th>\n",
       "      <td>Sumit</td>\n",
       "      <td>40</td>\n",
       "      <td>ASKASJ</td>\n",
       "      <td>6</td>\n",
       "    </tr>\n",
       "    <tr>\n",
       "      <th>4</th>\n",
       "      <td>Nihar</td>\n",
       "      <td>50</td>\n",
       "      <td>ASASm</td>\n",
       "      <td>5</td>\n",
       "    </tr>\n",
       "    <tr>\n",
       "      <th>5</th>\n",
       "      <td>Jay</td>\n",
       "      <td>60</td>\n",
       "      <td>ASASJ</td>\n",
       "      <td>5</td>\n",
       "    </tr>\n",
       "  </tbody>\n",
       "</table>\n",
       "</div>"
      ],
      "text/plain": [
       "      Name  Value    Text  Word_Count\n",
       "0  Shaheem     10     ASD           3\n",
       "1     Ajay     20    QWER           4\n",
       "2     Soni     30   ZMXAK           5\n",
       "3    Sumit     40  ASKASJ           6\n",
       "4    Nihar     50   ASASm           5\n",
       "5      Jay     60   ASASJ           5"
      ]
     },
     "execution_count": 128,
     "metadata": {},
     "output_type": "execute_result"
    }
   ],
   "source": [
    "df[\"Text\"]=[\"ASD\",\"QWER\",\"ZMXAK\",\"ASKASJ\",\"ASASm\",\"ASASJ\"]\n",
    "df[\"Word_Count\"]=df[\"Text\"].apply(len)\n",
    "df"
   ]
  },
  {
   "cell_type": "code",
   "execution_count": null,
   "id": "f6fdac6f-1788-48fd-9def-280da586bb87",
   "metadata": {},
   "outputs": [],
   "source": [
    "Q5. How are DataFrame.size() and DataFrame.shape() different?"
   ]
  },
  {
   "cell_type": "code",
   "execution_count": null,
   "id": "3b2cea67-917b-469c-bd14-dc7879f827b1",
   "metadata": {},
   "outputs": [],
   "source": [
    "Size Count the number of elements in the dataframe\n",
    "It multiply the rows and columns\n",
    "print(df.size)\n",
    "While\n",
    "Shape returns the Dataframe's Rows and Columns\n",
    "It returns in the form of Tuple \n",
    "For Exanple:"
   ]
  },
  {
   "cell_type": "code",
   "execution_count": 29,
   "id": "389b5367-3877-4a25-bc31-8205cde48b63",
   "metadata": {},
   "outputs": [
    {
     "name": "stdout",
     "output_type": "stream",
     "text": [
      "24\n",
      "(6, 4)\n"
     ]
    }
   ],
   "source": [
    "print(df.size)\n",
    "print(df.shape)"
   ]
  },
  {
   "cell_type": "code",
   "execution_count": null,
   "id": "b0588f3c-5fbb-4850-956e-e93e282c8603",
   "metadata": {},
   "outputs": [],
   "source": [
    "Q6. Which function of pandas do we use to read an excel file?\n",
    "pd.read_excel(\"File_Name\")"
   ]
  },
  {
   "cell_type": "code",
   "execution_count": null,
   "id": "56d463fd-17fe-4bc9-938a-5c3c9cc15f52",
   "metadata": {},
   "outputs": [],
   "source": [
    "Q7. You have a Pandas DataFrame df that contains a column named 'Email' that contains email\n",
    "addresses in the format 'username@domain.com'. Write a Python function that creates a new column\n",
    "'Username' in df that contains only the username part of each email address."
   ]
  },
  {
   "cell_type": "code",
   "execution_count": 129,
   "id": "a1139a51-60f8-44d2-983f-e90666f08282",
   "metadata": {},
   "outputs": [
    {
     "name": "stdout",
     "output_type": "stream",
     "text": [
      "      Name  Value    Text  Word_Count              Email Username\n",
      "0  Shaheem     10     ASD           3  Shaheem@gmail.com  Shaheem\n",
      "1     Ajay     20    QWER           4     Ajay@gmail.com     Ajay\n",
      "2     Soni     30   ZMXAK           5     Soni@gmail.com     Soni\n",
      "3    Sumit     40  ASKASJ           6    Sumit@gmail.com    Sumit\n",
      "4    Nihar     50   ASASm           5    Nihar@gmail.com    Nihar\n",
      "5      Jay     60   ASASJ           5      Jay@gmail.com      Jay\n"
     ]
    }
   ],
   "source": [
    "df[\"Email\"]=df[\"Name\"]+\"@gmail.com\"\n",
    "def username(df):\n",
    "    df[\"Username\"]=df[\"Email\"].str.split('@').str[0]\n",
    "    return df\n",
    "\n",
    "df=username(df)\n",
    "print(df)"
   ]
  },
  {
   "cell_type": "code",
   "execution_count": null,
   "id": "f9857947-1086-4fe7-b914-4f83cb4de062",
   "metadata": {},
   "outputs": [],
   "source": [
    "Q8. You have a Pandas DataFrame df with columns 'A', 'B', and 'C'. Write a Python function that selects\n",
    "all rows where the value in column 'A' is greater than 5 and the value in column 'B' is less than 10. The\n",
    "function should return a new DataFrame that contains only the selected rows."
   ]
  },
  {
   "cell_type": "code",
   "execution_count": 126,
   "id": "643930ff-5822-491b-a4ee-bf73388523c6",
   "metadata": {},
   "outputs": [
    {
     "data": {
      "text/html": [
       "<div>\n",
       "<style scoped>\n",
       "    .dataframe tbody tr th:only-of-type {\n",
       "        vertical-align: middle;\n",
       "    }\n",
       "\n",
       "    .dataframe tbody tr th {\n",
       "        vertical-align: top;\n",
       "    }\n",
       "\n",
       "    .dataframe thead th {\n",
       "        text-align: right;\n",
       "    }\n",
       "</style>\n",
       "<table border=\"1\" class=\"dataframe\">\n",
       "  <thead>\n",
       "    <tr style=\"text-align: right;\">\n",
       "      <th></th>\n",
       "      <th>A</th>\n",
       "      <th>B</th>\n",
       "      <th>C</th>\n",
       "    </tr>\n",
       "  </thead>\n",
       "  <tbody>\n",
       "    <tr>\n",
       "      <th>1</th>\n",
       "      <td>8</td>\n",
       "      <td>2</td>\n",
       "      <td>7</td>\n",
       "    </tr>\n",
       "    <tr>\n",
       "      <th>2</th>\n",
       "      <td>6</td>\n",
       "      <td>9</td>\n",
       "      <td>4</td>\n",
       "    </tr>\n",
       "    <tr>\n",
       "      <th>4</th>\n",
       "      <td>9</td>\n",
       "      <td>1</td>\n",
       "      <td>2</td>\n",
       "    </tr>\n",
       "  </tbody>\n",
       "</table>\n",
       "</div>"
      ],
      "text/plain": [
       "   A  B  C\n",
       "1  8  2  7\n",
       "2  6  9  4\n",
       "4  9  1  2"
      ]
     },
     "execution_count": 126,
     "metadata": {},
     "output_type": "execute_result"
    }
   ],
   "source": [
    "data={\"A\":[3,8,6,2,9],\"B\":[5,2,9,3,1],\"C\":[1,7,4,5,2]}\n",
    "df=pd.DataFrame(data)\n",
    "\n",
    "def func2(df):\n",
    "    df2= df[(df[\"A\"] > 5) & (df[\"B\"] < 10)]\n",
    "    return df2\n",
    "\n",
    "df3=func2(df)\n",
    "df3"
   ]
  },
  {
   "cell_type": "code",
   "execution_count": null,
   "id": "d1e20e31-fc19-4425-9422-0b0b6dea5e27",
   "metadata": {},
   "outputs": [],
   "source": [
    "Q9. Given a Pandas DataFrame df with a column 'Values', write a Python function to calculate the mean,\n",
    "median, and standard deviation of the values in the 'Values' column."
   ]
  },
  {
   "cell_type": "code",
   "execution_count": 141,
   "id": "48d4663b-ef87-4cff-9348-923510c907d8",
   "metadata": {},
   "outputs": [
    {
     "name": "stdout",
     "output_type": "stream",
     "text": [
      "      Name  Value    Text  Word_Count              Email Username  Values\n",
      "0  Shaheem     10     ASD           3  Shaheem@gmail.com  Shaheem     103\n",
      "1     Ajay     20    QWER           4     Ajay@gmail.com     Ajay     104\n",
      "2     Soni     30   ZMXAK           5     Soni@gmail.com     Soni     105\n",
      "3    Sumit     40  ASKASJ           6    Sumit@gmail.com    Sumit     106\n",
      "4    Nihar     50   ASASm           5    Nihar@gmail.com    Nihar     105\n",
      "5      Jay     60   ASASJ           5      Jay@gmail.com      Jay     105\n"
     ]
    },
    {
     "data": {
      "text/plain": [
       "104.66666666666667"
      ]
     },
     "execution_count": 141,
     "metadata": {},
     "output_type": "execute_result"
    }
   ],
   "source": [
    "df[\"Values\"]=df[\"Word_Count\"]+100\n",
    "print(df)\n",
    "df[\"Values\"].mean()\n"
   ]
  },
  {
   "cell_type": "code",
   "execution_count": 137,
   "id": "2d4b4149-8b70-47ac-bd38-fa134eba22a8",
   "metadata": {},
   "outputs": [
    {
     "data": {
      "text/plain": [
       "105.0"
      ]
     },
     "execution_count": 137,
     "metadata": {},
     "output_type": "execute_result"
    }
   ],
   "source": [
    "df[\"Values\"].median()"
   ]
  },
  {
   "cell_type": "code",
   "execution_count": 139,
   "id": "42bfe059-a2c3-4abf-95ec-4f79ffc52465",
   "metadata": {},
   "outputs": [
    {
     "data": {
      "text/plain": [
       "1.0327955589886446"
      ]
     },
     "execution_count": 139,
     "metadata": {},
     "output_type": "execute_result"
    }
   ],
   "source": [
    "df[\"Values\"].std()"
   ]
  },
  {
   "cell_type": "code",
   "execution_count": null,
   "id": "d7cc1586-7a80-415b-8d40-637337e9d2c8",
   "metadata": {},
   "outputs": [],
   "source": [
    "Q10. Given a Pandas DataFrame df with a column 'Sales' and a column 'Date', write a Python function to\n",
    "create a new column 'MovingAverage' that contains the moving average of the sales for the past 7 days\n",
    "for each row in the DataFrame. The moving average should be calculated using a window of size 7 and\n",
    "should include the current day."
   ]
  },
  {
   "cell_type": "code",
   "execution_count": 15,
   "id": "8214bd66-1638-443e-adf5-88b37afcbdd1",
   "metadata": {},
   "outputs": [
    {
     "data": {
      "text/html": [
       "<div>\n",
       "<style scoped>\n",
       "    .dataframe tbody tr th:only-of-type {\n",
       "        vertical-align: middle;\n",
       "    }\n",
       "\n",
       "    .dataframe tbody tr th {\n",
       "        vertical-align: top;\n",
       "    }\n",
       "\n",
       "    .dataframe thead th {\n",
       "        text-align: right;\n",
       "    }\n",
       "</style>\n",
       "<table border=\"1\" class=\"dataframe\">\n",
       "  <thead>\n",
       "    <tr style=\"text-align: right;\">\n",
       "      <th></th>\n",
       "      <th>Sales</th>\n",
       "      <th>Date</th>\n",
       "      <th>MovingAverage</th>\n",
       "    </tr>\n",
       "  </thead>\n",
       "  <tbody>\n",
       "    <tr>\n",
       "      <th>0</th>\n",
       "      <td>100</td>\n",
       "      <td>1969-12-31 23:59:59.999997985</td>\n",
       "      <td>NaN</td>\n",
       "    </tr>\n",
       "    <tr>\n",
       "      <th>1</th>\n",
       "      <td>120</td>\n",
       "      <td>1969-12-31 23:59:59.999997986</td>\n",
       "      <td>NaN</td>\n",
       "    </tr>\n",
       "    <tr>\n",
       "      <th>2</th>\n",
       "      <td>50</td>\n",
       "      <td>1969-12-31 23:59:59.999997987</td>\n",
       "      <td>NaN</td>\n",
       "    </tr>\n",
       "    <tr>\n",
       "      <th>3</th>\n",
       "      <td>200</td>\n",
       "      <td>1969-12-31 23:59:59.999997985</td>\n",
       "      <td>NaN</td>\n",
       "    </tr>\n",
       "    <tr>\n",
       "      <th>4</th>\n",
       "      <td>302</td>\n",
       "      <td>1969-12-31 23:59:59.999997998</td>\n",
       "      <td>NaN</td>\n",
       "    </tr>\n",
       "    <tr>\n",
       "      <th>5</th>\n",
       "      <td>401</td>\n",
       "      <td>1969-12-31 23:59:59.999997982</td>\n",
       "      <td>NaN</td>\n",
       "    </tr>\n",
       "    <tr>\n",
       "      <th>6</th>\n",
       "      <td>455</td>\n",
       "      <td>1969-12-31 23:59:59.999997983</td>\n",
       "      <td>232.571429</td>\n",
       "    </tr>\n",
       "    <tr>\n",
       "      <th>7</th>\n",
       "      <td>545</td>\n",
       "      <td>1969-12-31 23:59:59.999997983</td>\n",
       "      <td>296.142857</td>\n",
       "    </tr>\n",
       "    <tr>\n",
       "      <th>8</th>\n",
       "      <td>345</td>\n",
       "      <td>1969-12-31 23:59:59.999997983</td>\n",
       "      <td>328.285714</td>\n",
       "    </tr>\n",
       "    <tr>\n",
       "      <th>9</th>\n",
       "      <td>543</td>\n",
       "      <td>1969-12-31 23:59:59.999997979</td>\n",
       "      <td>398.714286</td>\n",
       "    </tr>\n",
       "  </tbody>\n",
       "</table>\n",
       "</div>"
      ],
      "text/plain": [
       "   Sales                          Date  MovingAverage\n",
       "0    100 1969-12-31 23:59:59.999997985            NaN\n",
       "1    120 1969-12-31 23:59:59.999997986            NaN\n",
       "2     50 1969-12-31 23:59:59.999997987            NaN\n",
       "3    200 1969-12-31 23:59:59.999997985            NaN\n",
       "4    302 1969-12-31 23:59:59.999997998            NaN\n",
       "5    401 1969-12-31 23:59:59.999997982            NaN\n",
       "6    455 1969-12-31 23:59:59.999997983     232.571429\n",
       "7    545 1969-12-31 23:59:59.999997983     296.142857\n",
       "8    345 1969-12-31 23:59:59.999997983     328.285714\n",
       "9    543 1969-12-31 23:59:59.999997979     398.714286"
      ]
     },
     "execution_count": 15,
     "metadata": {},
     "output_type": "execute_result"
    }
   ],
   "source": [
    "Data = {\"Sales\": [100,120,50,200,302,401,455,545,345,543], \"Date\": pd.to_datetime([10-1-2024,11-1-2024,12-1-2024,11-2-2024,25-3-2024,11-5-2024,12-5-2024,13-6-2024,14-7-2024,12-9-2024])}\n",
    "df=pd.DataFrame(Data)\n",
    "def rolling(df):\n",
    "    df['MovingAverage'] = df['Sales'].rolling(window=7).mean()\n",
    "    return df\n",
    "df=rolling(df)\n",
    "df"
   ]
  },
  {
   "cell_type": "code",
   "execution_count": null,
   "id": "68d07e26-5a1d-4719-97c6-993734a4fc81",
   "metadata": {},
   "outputs": [],
   "source": [
    "Q11. You have a Pandas DataFrame df with a column 'Date'. Write a Python function that creates a new\n",
    "column 'Weekday' in the DataFrame. The 'Weekday' column should contain the weekday name (e.g.\n",
    "Monday, Tuesday) corresponding to each date in the 'Date' column."
   ]
  },
  {
   "cell_type": "code",
   "execution_count": 6,
   "id": "4cd64a56-ebaf-4f65-888e-ad2356a65018",
   "metadata": {},
   "outputs": [
    {
     "name": "stdout",
     "output_type": "stream",
     "text": [
      "        Date    Weekday\n",
      "0 2023-01-01     Sunday\n",
      "1 2023-01-02     Monday\n",
      "2 2023-01-03    Tuesday\n",
      "3 2023-01-04  Wednesday\n",
      "4 2023-01-05   Thursday\n"
     ]
    }
   ],
   "source": [
    "data = {'Date': pd.to_datetime(['2023-01-01', '2023-01-02', '2023-01-03', '2023-01-04', '2023-01-05'])}\n",
    "df = pd.DataFrame(data)\n",
    "\n",
    "def add_weekday(df):\n",
    "  # Add 'Weekday' column with day names (Monday=0, Sunday=6)\n",
    "    df['Weekday'] = df['Date'].dt.day_name()\n",
    "    return df\n",
    "\n",
    "df = add_weekday(df)\n",
    "print(df)"
   ]
  },
  {
   "cell_type": "code",
   "execution_count": null,
   "id": "5d1823de-b8a5-4e87-b069-bcff2d53719b",
   "metadata": {},
   "outputs": [],
   "source": [
    "Q12. Given a Pandas DataFrame df with a column 'Date' that contains timestamps, write a Python\n",
    "function to select all rows where the date is between '2023-01-01' and '2023-01-31'."
   ]
  },
  {
   "cell_type": "code",
   "execution_count": 28,
   "id": "966d7480-f1aa-4ce2-aa53-ad04ac242ec1",
   "metadata": {},
   "outputs": [
    {
     "data": {
      "text/html": [
       "<div>\n",
       "<style scoped>\n",
       "    .dataframe tbody tr th:only-of-type {\n",
       "        vertical-align: middle;\n",
       "    }\n",
       "\n",
       "    .dataframe tbody tr th {\n",
       "        vertical-align: top;\n",
       "    }\n",
       "\n",
       "    .dataframe thead th {\n",
       "        text-align: right;\n",
       "    }\n",
       "</style>\n",
       "<table border=\"1\" class=\"dataframe\">\n",
       "  <thead>\n",
       "    <tr style=\"text-align: right;\">\n",
       "      <th></th>\n",
       "      <th>Date</th>\n",
       "    </tr>\n",
       "  </thead>\n",
       "  <tbody>\n",
       "    <tr>\n",
       "      <th>0</th>\n",
       "      <td>2023-01-01</td>\n",
       "    </tr>\n",
       "    <tr>\n",
       "      <th>1</th>\n",
       "      <td>2023-01-02</td>\n",
       "    </tr>\n",
       "    <tr>\n",
       "      <th>2</th>\n",
       "      <td>2023-01-03</td>\n",
       "    </tr>\n",
       "    <tr>\n",
       "      <th>3</th>\n",
       "      <td>2023-01-04</td>\n",
       "    </tr>\n",
       "    <tr>\n",
       "      <th>4</th>\n",
       "      <td>2023-01-05</td>\n",
       "    </tr>\n",
       "    <tr>\n",
       "      <th>5</th>\n",
       "      <td>2023-01-06</td>\n",
       "    </tr>\n",
       "  </tbody>\n",
       "</table>\n",
       "</div>"
      ],
      "text/plain": [
       "        Date\n",
       "0 2023-01-01\n",
       "1 2023-01-02\n",
       "2 2023-01-03\n",
       "3 2023-01-04\n",
       "4 2023-01-05\n",
       "5 2023-01-06"
      ]
     },
     "execution_count": 28,
     "metadata": {},
     "output_type": "execute_result"
    }
   ],
   "source": [
    "data = {'Date': pd.to_datetime(['2023-01-01', '2023-01-02', '2023-01-03', '2023-01-04', '2023-01-05','2023-01-06', \n",
    "                                '2023-02-01', '2023-02-02','2023-02-03','2023-02-04','2023-02-05'])}\n",
    "df = pd.DataFrame(data)\n",
    "\n",
    "\n",
    "def func(df):\n",
    "    return df[(df[\"Date\"]>='2023-01-01') & (df[\"Date\"]<='2023-01-31')]\n",
    "func(df)"
   ]
  },
  {
   "cell_type": "code",
   "execution_count": null,
   "id": "7345b897-9099-494a-87ad-a42d48f9c625",
   "metadata": {},
   "outputs": [],
   "source": [
    "Q13. To use the basic functions of pandas, what is the first and foremost necessary library that needs to\n",
    "be imported?\n",
    "\n",
    "To use the basi functions of pandas we need a library called pandas. In order to use it we need to import it.\n",
    "To import it simply use:\n",
    "    import pandas as \"Any Shortcut\"\n",
    "For Example:\n",
    "    import pandas as pd"
   ]
  }
 ],
 "metadata": {
  "kernelspec": {
   "display_name": "Python 3 (ipykernel)",
   "language": "python",
   "name": "python3"
  },
  "language_info": {
   "codemirror_mode": {
    "name": "ipython",
    "version": 3
   },
   "file_extension": ".py",
   "mimetype": "text/x-python",
   "name": "python",
   "nbconvert_exporter": "python",
   "pygments_lexer": "ipython3",
   "version": "3.10.8"
  }
 },
 "nbformat": 4,
 "nbformat_minor": 5
}
